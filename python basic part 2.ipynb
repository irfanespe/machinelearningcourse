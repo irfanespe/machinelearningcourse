{
 "cells": [
  {
   "cell_type": "markdown",
   "id": "6b804af3",
   "metadata": {},
   "source": [
    "### struktur data\n",
    "1. list [ .. ]\n",
    "2. set { .. }\n",
    "3. tupple (.. )"
   ]
  },
  {
   "cell_type": "markdown",
   "id": "59458632",
   "metadata": {},
   "source": [
    "### List"
   ]
  },
  {
   "cell_type": "code",
   "execution_count": 1,
   "id": "2b4ba5a4",
   "metadata": {},
   "outputs": [],
   "source": [
    "# list\n",
    "x = [1, 2, 3]"
   ]
  },
  {
   "cell_type": "code",
   "execution_count": 5,
   "id": "dada64bd",
   "metadata": {},
   "outputs": [
    {
     "data": {
      "text/plain": [
       "3"
      ]
     },
     "execution_count": 5,
     "metadata": {},
     "output_type": "execute_result"
    }
   ],
   "source": [
    "# 1. list ini punya index\n",
    "# indexing di python mulai dari 0\n",
    "# misal x = [1,2,3]\n",
    "#            0,1,2  \n",
    "# template -> nama_variable[index]\n",
    "x[2]"
   ]
  },
  {
   "cell_type": "code",
   "execution_count": 6,
   "id": "0898d587",
   "metadata": {},
   "outputs": [],
   "source": [
    "# 2. list ini boleh isinya berulang/ duplicate\n",
    "y = [1, 2, 1, 4]"
   ]
  },
  {
   "cell_type": "code",
   "execution_count": 7,
   "id": "5cf40442",
   "metadata": {},
   "outputs": [
    {
     "data": {
      "text/plain": [
       "[1, 2, 1, 4]"
      ]
     },
     "execution_count": 7,
     "metadata": {},
     "output_type": "execute_result"
    }
   ],
   "source": [
    "y"
   ]
  },
  {
   "cell_type": "code",
   "execution_count": 9,
   "id": "6f8e4b82",
   "metadata": {},
   "outputs": [],
   "source": [
    "# 3. penggantian isi value di list diperbolehkan\n",
    "# template -> nama_var[index_yang_mau_diganti] = value\n",
    "y[3] = 10"
   ]
  },
  {
   "cell_type": "code",
   "execution_count": 10,
   "id": "272f13f2",
   "metadata": {},
   "outputs": [
    {
     "data": {
      "text/plain": [
       "[1, 2, 1, 10]"
      ]
     },
     "execution_count": 10,
     "metadata": {},
     "output_type": "execute_result"
    }
   ],
   "source": [
    "y"
   ]
  },
  {
   "cell_type": "markdown",
   "id": "afbc9f14",
   "metadata": {},
   "source": [
    "### Set"
   ]
  },
  {
   "cell_type": "code",
   "execution_count": 11,
   "id": "ab6fdc0b",
   "metadata": {},
   "outputs": [],
   "source": [
    "# set { .. }\n",
    "x = {1, 2, 3}"
   ]
  },
  {
   "cell_type": "code",
   "execution_count": 12,
   "id": "16c02a30",
   "metadata": {},
   "outputs": [
    {
     "ename": "TypeError",
     "evalue": "'set' object is not subscriptable",
     "output_type": "error",
     "traceback": [
      "\u001b[1;31m---------------------------------------------------------------------------\u001b[0m",
      "\u001b[1;31mTypeError\u001b[0m                                 Traceback (most recent call last)",
      "Input \u001b[1;32mIn [12]\u001b[0m, in \u001b[0;36m<cell line: 2>\u001b[1;34m()\u001b[0m\n\u001b[0;32m      1\u001b[0m \u001b[38;5;66;03m# 1. tidak bisa diakses indexnya\u001b[39;00m\n\u001b[1;32m----> 2\u001b[0m \u001b[43mx\u001b[49m\u001b[43m[\u001b[49m\u001b[38;5;241;43m2\u001b[39;49m\u001b[43m]\u001b[49m\n",
      "\u001b[1;31mTypeError\u001b[0m: 'set' object is not subscriptable"
     ]
    }
   ],
   "source": [
    "# 1. tidak bisa diakses indexnya\n",
    "x[2]"
   ]
  },
  {
   "cell_type": "code",
   "execution_count": 13,
   "id": "91919ec7",
   "metadata": {},
   "outputs": [],
   "source": [
    "# 2. set itu harus unik value\n",
    "x = {1, 2, 1, 4}"
   ]
  },
  {
   "cell_type": "code",
   "execution_count": 14,
   "id": "047db395",
   "metadata": {},
   "outputs": [
    {
     "data": {
      "text/plain": [
       "{1, 2, 4}"
      ]
     },
     "execution_count": 14,
     "metadata": {},
     "output_type": "execute_result"
    }
   ],
   "source": [
    "x"
   ]
  },
  {
   "cell_type": "markdown",
   "id": "c540a619",
   "metadata": {},
   "source": [
    "### tuple"
   ]
  },
  {
   "cell_type": "code",
   "execution_count": 16,
   "id": "e3f7528a",
   "metadata": {},
   "outputs": [],
   "source": [
    "# tuple ( )\n",
    "x = (1, 2, 4)"
   ]
  },
  {
   "cell_type": "code",
   "execution_count": 17,
   "id": "8b920eea",
   "metadata": {},
   "outputs": [
    {
     "data": {
      "text/plain": [
       "(1, 2, 4)"
      ]
     },
     "execution_count": 17,
     "metadata": {},
     "output_type": "execute_result"
    }
   ],
   "source": [
    "x"
   ]
  },
  {
   "cell_type": "code",
   "execution_count": 19,
   "id": "3d8942da",
   "metadata": {},
   "outputs": [
    {
     "data": {
      "text/plain": [
       "1"
      ]
     },
     "execution_count": 19,
     "metadata": {},
     "output_type": "execute_result"
    }
   ],
   "source": [
    "# 1. bisa diakses value nya via index\n",
    "x[0]"
   ]
  },
  {
   "cell_type": "code",
   "execution_count": 20,
   "id": "d064ac1f",
   "metadata": {},
   "outputs": [
    {
     "ename": "TypeError",
     "evalue": "'tuple' object does not support item assignment",
     "output_type": "error",
     "traceback": [
      "\u001b[1;31m---------------------------------------------------------------------------\u001b[0m",
      "\u001b[1;31mTypeError\u001b[0m                                 Traceback (most recent call last)",
      "Input \u001b[1;32mIn [20]\u001b[0m, in \u001b[0;36m<cell line: 2>\u001b[1;34m()\u001b[0m\n\u001b[0;32m      1\u001b[0m \u001b[38;5;66;03m# 2. value dalam tuple itu tidak bisa diganti\u001b[39;00m\n\u001b[1;32m----> 2\u001b[0m x[\u001b[38;5;241m2\u001b[39m] \u001b[38;5;241m=\u001b[39m \u001b[38;5;241m10\u001b[39m\n",
      "\u001b[1;31mTypeError\u001b[0m: 'tuple' object does not support item assignment"
     ]
    }
   ],
   "source": [
    "# 2. value dalam tuple itu tidak bisa diganti, dikurang atau ditambah\n",
    "x[2] = 10"
   ]
  },
  {
   "cell_type": "markdown",
   "id": "bc95da5a",
   "metadata": {},
   "source": [
    "## Looping"
   ]
  },
  {
   "cell_type": "code",
   "execution_count": 23,
   "id": "76948407",
   "metadata": {},
   "outputs": [
    {
     "name": "stdout",
     "output_type": "stream",
     "text": [
      "5\n",
      "6\n",
      "7\n",
      "8\n",
      "9\n",
      "10\n"
     ]
    }
   ],
   "source": [
    "# template\n",
    "# for nama_variable in range(angka_awal, angka_akhir+1):\n",
    "#     command\n",
    "\n",
    "# tulis angka 5 - 10\n",
    "for i in range(5,11):\n",
    "    print(i)"
   ]
  },
  {
   "cell_type": "code",
   "execution_count": 25,
   "id": "3973f2ed",
   "metadata": {},
   "outputs": [
    {
     "name": "stdout",
     "output_type": "stream",
     "text": [
      "10\n",
      "tidak lulus\n",
      "\n",
      "20\n",
      "tidak lulus\n",
      "\n",
      "30\n",
      "tidak lulus\n",
      "\n",
      "40\n",
      "tidak lulus\n",
      "\n",
      "90\n",
      "lulus\n",
      "\n"
     ]
    }
   ],
   "source": [
    "# guru memiliki 5 nilai untuk dicek. nilainya 10,20,30,40,90.\n",
    "# guru ingin mengelompokkan nilai menjadi lulus dan tidak lulus\n",
    "# buat code untuk melakukan checking 5 nilai tersebut\n",
    "\n",
    "# melakukan perulangan dari value list\n",
    "# template\n",
    "# for nama_variable in nama list:\n",
    "#     command\n",
    "\n",
    "# list nilai berisi nilai yg ada\n",
    "nilai = [10, 20, 30, 40, 90]\n",
    "\n",
    "# value merupakan sebuah nilai pada list nilai yang sedang diiterasi\n",
    "for value in nilai:\n",
    "    # iterasi 2 , value = 30     \n",
    "    print(value)\n",
    "    #  pengelompokkan nilai. lulus jika nilai >= 80\n",
    "    if (value>=80):\n",
    "        print(\"lulus\")\n",
    "    else:\n",
    "        print(\"tidak lulus\")\n",
    "    print()"
   ]
  },
  {
   "cell_type": "code",
   "execution_count": null,
   "id": "b128bbf0",
   "metadata": {},
   "outputs": [],
   "source": []
  }
 ],
 "metadata": {
  "kernelspec": {
   "display_name": "Python 3 (ipykernel)",
   "language": "python",
   "name": "python3"
  },
  "language_info": {
   "codemirror_mode": {
    "name": "ipython",
    "version": 3
   },
   "file_extension": ".py",
   "mimetype": "text/x-python",
   "name": "python",
   "nbconvert_exporter": "python",
   "pygments_lexer": "ipython3",
   "version": "3.9.12"
  }
 },
 "nbformat": 4,
 "nbformat_minor": 5
}
