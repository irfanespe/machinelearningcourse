{
 "cells": [
  {
   "cell_type": "code",
   "execution_count": 1,
   "id": "0b0b340d",
   "metadata": {},
   "outputs": [],
   "source": [
    "# C\n",
    "# int x = 5;\n",
    "# python\n",
    "# nama_variable = value\n",
    "x = 10"
   ]
  },
  {
   "cell_type": "code",
   "execution_count": 6,
   "id": "61fe8c63",
   "metadata": {},
   "outputs": [],
   "source": [
    "# operasi bilangan\n",
    "# +, -, *, / , mod, div\n",
    "jumlah = 5 + 10"
   ]
  },
  {
   "cell_type": "code",
   "execution_count": 3,
   "id": "55a15d16",
   "metadata": {},
   "outputs": [],
   "source": [
    "# kuadrat\n",
    "operasi_kuadrat = 3 ** 2"
   ]
  },
  {
   "cell_type": "code",
   "execution_count": 5,
   "id": "5b038214",
   "metadata": {},
   "outputs": [
    {
     "data": {
      "text/plain": [
       "9"
      ]
     },
     "execution_count": 5,
     "metadata": {},
     "output_type": "execute_result"
    }
   ],
   "source": [
    "operasi_kuadrat"
   ]
  },
  {
   "cell_type": "code",
   "execution_count": 10,
   "id": "34ffdff0",
   "metadata": {},
   "outputs": [],
   "source": [
    "x = \"aku\"\n",
    "y = \"pergi\"\n",
    "\n",
    "# menggabungkan variable x dan variable y\n",
    "gabungan = x + \" \" + y"
   ]
  },
  {
   "cell_type": "code",
   "execution_count": 11,
   "id": "f58899e6",
   "metadata": {},
   "outputs": [
    {
     "data": {
      "text/plain": [
       "'aku pergi'"
      ]
     },
     "execution_count": 11,
     "metadata": {},
     "output_type": "execute_result"
    }
   ],
   "source": [
    "gabungan"
   ]
  },
  {
   "cell_type": "code",
   "execution_count": 13,
   "id": "7bf8093e",
   "metadata": {},
   "outputs": [
    {
     "name": "stdout",
     "output_type": "stream",
     "text": [
      "lulus\n"
     ]
    }
   ],
   "source": [
    "# conditional statement\n",
    "# template\n",
    "# if (logic):\n",
    "#    command1\n",
    "# else:\n",
    "#    command2\n",
    "\n",
    "# seorang guru ingin memisahkan nilai yang lulus dan tidak. batas kelulusan dari mata pelajaran yaitu 70.\n",
    "# buatlah program untuk mengelompokkan nilai dari siswa menjadi lulus dan tidak lulus\n",
    "nilai = 90\n",
    "\n",
    "if (nilai >= 70):\n",
    "    # menulis lulus\n",
    "    print(\"lulus\")\n",
    "else :\n",
    "    print(\"tidak lulus\")"
   ]
  },
  {
   "cell_type": "code",
   "execution_count": 16,
   "id": "b4e6ad78",
   "metadata": {},
   "outputs": [
    {
     "name": "stdout",
     "output_type": "stream",
     "text": [
      "c\n"
     ]
    }
   ],
   "source": [
    "# dosen ingin mengelompokkan nilai menjadi a, b, dan c.\n",
    "# nilai dianggap a ketika lebih besar sama dengan 80\n",
    "# jika nilai diantara 60 dan 79, maka dianggap b\n",
    "# jika dibawah 60 maka dianggap c\n",
    "\n",
    "# template condition > 2\n",
    "# if (logic1):\n",
    "#     command1\n",
    "# elif (logic2):\n",
    "#     command2\n",
    "# else :\n",
    "#     command3\n",
    "\n",
    "# define variable\n",
    "nilai = 40\n",
    "\n",
    "# conditional statement\n",
    "# nilai >= 80\n",
    "if (nilai >= 80):\n",
    "    #  tulis a\n",
    "    print(\"a\")\n",
    "# nilai diantara 60 dan 79\n",
    "elif (nilai >=60) & (nilai <= 79):\n",
    "    print(\"b\")\n",
    "else :\n",
    "    print(\"c\")"
   ]
  },
  {
   "cell_type": "markdown",
   "id": "b8ec7b2b",
   "metadata": {},
   "source": [
    "Untuk penggabungan logika, operator yang digunakan\n",
    "1. & : untuk logika and -> akan terpenuhi jika semua logika true\n",
    "2. | : untuk logika or -> akan terpenuhi jika salah satu logika true"
   ]
  },
  {
   "cell_type": "code",
   "execution_count": null,
   "id": "f446ad60",
   "metadata": {},
   "outputs": [],
   "source": []
  }
 ],
 "metadata": {
  "kernelspec": {
   "display_name": "Python 3 (ipykernel)",
   "language": "python",
   "name": "python3"
  },
  "language_info": {
   "codemirror_mode": {
    "name": "ipython",
    "version": 3
   },
   "file_extension": ".py",
   "mimetype": "text/x-python",
   "name": "python",
   "nbconvert_exporter": "python",
   "pygments_lexer": "ipython3",
   "version": "3.9.12"
  }
 },
 "nbformat": 4,
 "nbformat_minor": 5
}
